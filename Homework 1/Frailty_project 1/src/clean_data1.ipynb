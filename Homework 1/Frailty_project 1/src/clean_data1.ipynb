{
  "nbformat": 4,
  "nbformat_minor": 0,
  "metadata": {
    "colab": {
      "provenance": []
    },
    "kernelspec": {
      "name": "python3",
      "display_name": "Python 3"
    },
    "language_info": {
      "name": "python"
    }
  },
  "cells": [
    {
      "cell_type": "code",
      "execution_count": null,
      "metadata": {
        "id": "ncxVbGU1_8fw"
      },
      "outputs": [],
      "source": [
        "import pandas as pd"
      ]
    },
    {
      "cell_type": "code",
      "source": [
        "# In this section i am printing the raw data\n",
        "data = pd.read_csv('/content/raw_data.csv', encoding='ISO-8859-1')\n",
        "print (data)"
      ],
      "metadata": {
        "colab": {
          "base_uri": "https://localhost:8080/"
        },
        "id": "-spyPfxGHO1q",
        "outputId": "bd672192-6938-46fe-b5c7-375d9fbe8b73"
      },
      "execution_count": 7,
      "outputs": [
        {
          "output_type": "stream",
          "name": "stdout",
          "text": [
            "  Height  Weight  Age  Grip strength  Frailty \n",
            "0   65.8     112   30             30        N \n",
            "1   71.5     136   19             31        N \n",
            "2   69.4     153   45             29        N \n",
            "3   68.2     142   22             28        Y \n",
            "4   67.8     144   29             24        Y \n",
            "5   68.7     123   50             26        N \n",
            "6   69.8     141   51             22        Y \n",
            "7   70.1     136   23             20        Y \n",
            "8   67.9     112   17             19        N \n",
            "9   66.8     120   39             31        N \n"
          ]
        }
      ]
    },
    {
      "cell_type": "code",
      "source": [
        "#we are cleaning the raw data set\n",
        "data = data.replace('?', pd.NA)\n",
        "\n",
        "print(data)"
      ],
      "metadata": {
        "colab": {
          "base_uri": "https://localhost:8080/"
        },
        "id": "sNE-aVxuHQI1",
        "outputId": "3ac40594-b019-4e35-92fe-1274dab4cd22"
      },
      "execution_count": 12,
      "outputs": [
        {
          "output_type": "stream",
          "name": "stdout",
          "text": [
            "  Height  Weight  Age  Grip strength  Frailty \n",
            "0   65.8     112   30             30        N \n",
            "1   71.5     136   19             31        N \n",
            "2   69.4     153   45             29        N \n",
            "3   68.2     142   22             28        Y \n",
            "4   67.8     144   29             24        Y \n",
            "5   68.7     123   50             26        N \n",
            "6   69.8     141   51             22        Y \n",
            "7   70.1     136   23             20        Y \n",
            "8   67.9     112   17             19        N \n",
            "9   66.8     120   39             31        N \n"
          ]
        }
      ]
    },
    {
      "cell_type": "code",
      "source": [
        "#this function will download the clean data set file\n",
        "output_file = 'clean_data.csv'\n",
        "data.to_csv(output_file, index=False)"
      ],
      "metadata": {
        "id": "etqcwK9HLCBo"
      },
      "execution_count": 17,
      "outputs": []
    }
  ]
}